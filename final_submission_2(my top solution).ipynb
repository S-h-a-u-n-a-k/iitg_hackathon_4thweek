{
 "cells": [
  {
   "cell_type": "code",
   "execution_count": 2,
   "id": "0b7b13f8",
   "metadata": {},
   "outputs": [],
   "source": [
    "import numpy as np\n",
    "import pandas as pd \n",
    "from sklearn.linear_model import LinearRegression\n",
    "from sklearn.model_selection import train_test_split\n",
    "from sklearn.linear_model import LogisticRegression\n",
    "from sklearn.impute import SimpleImputer\n",
    "import matplotlib.pyplot as plt\n",
    "import seaborn as sns"
   ]
  },
  {
   "cell_type": "code",
   "execution_count": 3,
   "id": "a0d7dba6",
   "metadata": {},
   "outputs": [
    {
     "data": {
      "text/plain": [
       "(3132, 9)"
      ]
     },
     "execution_count": 3,
     "metadata": {},
     "output_type": "execute_result"
    }
   ],
   "source": [
    "df = pd.read_csv(\"Train.csv\")\n",
    "df.shape"
   ]
  },
  {
   "cell_type": "code",
   "execution_count": 4,
   "id": "ab0c9f14",
   "metadata": {},
   "outputs": [
    {
     "data": {
      "text/plain": [
       "(1045, 9)"
      ]
     },
     "execution_count": 4,
     "metadata": {},
     "output_type": "execute_result"
    }
   ],
   "source": [
    "x_test = pd.read_csv(\"Test.csv\")\n",
    "x_test.shape"
   ]
  },
  {
   "cell_type": "code",
   "execution_count": 5,
   "id": "4d3bcb3c",
   "metadata": {},
   "outputs": [],
   "source": [
    "y = df['Target']\n",
    "df.drop(['Target'],axis=1,inplace=True)"
   ]
  },
  {
   "cell_type": "markdown",
   "id": "0e728f26",
   "metadata": {},
   "source": [
    "Converting categorical to numerical in training data"
   ]
  },
  {
   "cell_type": "code",
   "execution_count": 6,
   "id": "4bc618d9",
   "metadata": {},
   "outputs": [],
   "source": [
    "final_features = pd.get_dummies(df,drop_first=True)"
   ]
  },
  {
   "cell_type": "markdown",
   "id": "dbe260da",
   "metadata": {},
   "source": [
    "Correlation Matrix"
   ]
  },
  {
   "cell_type": "code",
   "execution_count": 7,
   "id": "782c90eb",
   "metadata": {},
   "outputs": [
    {
     "data": {
      "text/html": [
       "<style type=\"text/css\">\n",
       "#T_dbe47_row0_col0, #T_dbe47_row1_col1, #T_dbe47_row2_col2, #T_dbe47_row3_col3, #T_dbe47_row4_col4, #T_dbe47_row5_col5, #T_dbe47_row6_col6, #T_dbe47_row7_col7, #T_dbe47_row8_col8 {\n",
       "  background-color: #b40426;\n",
       "  color: #f1f1f1;\n",
       "}\n",
       "#T_dbe47_row0_col1, #T_dbe47_row1_col0 {\n",
       "  background-color: #b70d28;\n",
       "  color: #f1f1f1;\n",
       "}\n",
       "#T_dbe47_row0_col2, #T_dbe47_row2_col0, #T_dbe47_row3_col2 {\n",
       "  background-color: #de614d;\n",
       "  color: #f1f1f1;\n",
       "}\n",
       "#T_dbe47_row0_col3, #T_dbe47_row1_col3, #T_dbe47_row3_col0, #T_dbe47_row3_col1 {\n",
       "  background-color: #c53334;\n",
       "  color: #f1f1f1;\n",
       "}\n",
       "#T_dbe47_row0_col4, #T_dbe47_row1_col5, #T_dbe47_row4_col0, #T_dbe47_row5_col1 {\n",
       "  background-color: #cb3e38;\n",
       "  color: #f1f1f1;\n",
       "}\n",
       "#T_dbe47_row0_col5, #T_dbe47_row1_col6, #T_dbe47_row5_col0, #T_dbe47_row5_col6, #T_dbe47_row6_col1, #T_dbe47_row6_col5 {\n",
       "  background-color: #ca3b37;\n",
       "  color: #f1f1f1;\n",
       "}\n",
       "#T_dbe47_row0_col6, #T_dbe47_row1_col4, #T_dbe47_row4_col1, #T_dbe47_row6_col0 {\n",
       "  background-color: #cc403a;\n",
       "  color: #f1f1f1;\n",
       "}\n",
       "#T_dbe47_row0_col7, #T_dbe47_row1_col7, #T_dbe47_row2_col7, #T_dbe47_row3_col7, #T_dbe47_row4_col7, #T_dbe47_row5_col7, #T_dbe47_row6_col7, #T_dbe47_row7_col1, #T_dbe47_row7_col3, #T_dbe47_row7_col5, #T_dbe47_row8_col7 {\n",
       "  background-color: #3b4cc0;\n",
       "  color: #f1f1f1;\n",
       "}\n",
       "#T_dbe47_row0_col8, #T_dbe47_row8_col6 {\n",
       "  background-color: #dbdcde;\n",
       "  color: #000000;\n",
       "}\n",
       "#T_dbe47_row1_col2 {\n",
       "  background-color: #dc5d4a;\n",
       "  color: #f1f1f1;\n",
       "}\n",
       "#T_dbe47_row1_col8, #T_dbe47_row4_col8 {\n",
       "  background-color: #dddcdc;\n",
       "  color: #000000;\n",
       "}\n",
       "#T_dbe47_row2_col1 {\n",
       "  background-color: #dd5f4b;\n",
       "  color: #f1f1f1;\n",
       "}\n",
       "#T_dbe47_row2_col3, #T_dbe47_row6_col2 {\n",
       "  background-color: #df634e;\n",
       "  color: #f1f1f1;\n",
       "}\n",
       "#T_dbe47_row2_col4, #T_dbe47_row4_col2 {\n",
       "  background-color: #e57058;\n",
       "  color: #f1f1f1;\n",
       "}\n",
       "#T_dbe47_row2_col5 {\n",
       "  background-color: #e36b54;\n",
       "  color: #f1f1f1;\n",
       "}\n",
       "#T_dbe47_row2_col6 {\n",
       "  background-color: #e0654f;\n",
       "  color: #f1f1f1;\n",
       "}\n",
       "#T_dbe47_row2_col8 {\n",
       "  background-color: #d5dbe5;\n",
       "  color: #000000;\n",
       "}\n",
       "#T_dbe47_row3_col4, #T_dbe47_row4_col3 {\n",
       "  background-color: #ba162b;\n",
       "  color: #f1f1f1;\n",
       "}\n",
       "#T_dbe47_row3_col5, #T_dbe47_row5_col3 {\n",
       "  background-color: #bb1b2c;\n",
       "  color: #f1f1f1;\n",
       "}\n",
       "#T_dbe47_row3_col6, #T_dbe47_row6_col3 {\n",
       "  background-color: #be242e;\n",
       "  color: #f1f1f1;\n",
       "}\n",
       "#T_dbe47_row3_col8 {\n",
       "  background-color: #e0dbd8;\n",
       "  color: #000000;\n",
       "}\n",
       "#T_dbe47_row4_col5, #T_dbe47_row5_col4 {\n",
       "  background-color: #c43032;\n",
       "  color: #f1f1f1;\n",
       "}\n",
       "#T_dbe47_row4_col6, #T_dbe47_row6_col4 {\n",
       "  background-color: #cf453c;\n",
       "  color: #f1f1f1;\n",
       "}\n",
       "#T_dbe47_row5_col2 {\n",
       "  background-color: #e16751;\n",
       "  color: #f1f1f1;\n",
       "}\n",
       "#T_dbe47_row5_col8, #T_dbe47_row8_col3, #T_dbe47_row8_col4 {\n",
       "  background-color: #dedcdb;\n",
       "  color: #000000;\n",
       "}\n",
       "#T_dbe47_row6_col8, #T_dbe47_row8_col5 {\n",
       "  background-color: #dcdddd;\n",
       "  color: #000000;\n",
       "}\n",
       "#T_dbe47_row7_col0, #T_dbe47_row7_col6 {\n",
       "  background-color: #3d50c3;\n",
       "  color: #f1f1f1;\n",
       "}\n",
       "#T_dbe47_row7_col2 {\n",
       "  background-color: #445acc;\n",
       "  color: #f1f1f1;\n",
       "}\n",
       "#T_dbe47_row7_col4 {\n",
       "  background-color: #4257c9;\n",
       "  color: #f1f1f1;\n",
       "}\n",
       "#T_dbe47_row7_col8 {\n",
       "  background-color: #4055c8;\n",
       "  color: #f1f1f1;\n",
       "}\n",
       "#T_dbe47_row8_col0, #T_dbe47_row8_col1 {\n",
       "  background-color: #dadce0;\n",
       "  color: #000000;\n",
       "}\n",
       "#T_dbe47_row8_col2 {\n",
       "  background-color: #d6dce4;\n",
       "  color: #000000;\n",
       "}\n",
       "</style>\n",
       "<table id=\"T_dbe47\">\n",
       "  <thead>\n",
       "    <tr>\n",
       "      <th class=\"blank level0\" >&nbsp;</th>\n",
       "      <th id=\"T_dbe47_level0_col0\" class=\"col_heading level0 col0\" >B</th>\n",
       "      <th id=\"T_dbe47_level0_col1\" class=\"col_heading level0 col1\" >C</th>\n",
       "      <th id=\"T_dbe47_level0_col2\" class=\"col_heading level0 col2\" >D</th>\n",
       "      <th id=\"T_dbe47_level0_col3\" class=\"col_heading level0 col3\" >E</th>\n",
       "      <th id=\"T_dbe47_level0_col4\" class=\"col_heading level0 col4\" >F</th>\n",
       "      <th id=\"T_dbe47_level0_col5\" class=\"col_heading level0 col5\" >G</th>\n",
       "      <th id=\"T_dbe47_level0_col6\" class=\"col_heading level0 col6\" >H</th>\n",
       "      <th id=\"T_dbe47_level0_col7\" class=\"col_heading level0 col7\" >A_I</th>\n",
       "      <th id=\"T_dbe47_level0_col8\" class=\"col_heading level0 col8\" >A_M</th>\n",
       "    </tr>\n",
       "  </thead>\n",
       "  <tbody>\n",
       "    <tr>\n",
       "      <th id=\"T_dbe47_level0_row0\" class=\"row_heading level0 row0\" >B</th>\n",
       "      <td id=\"T_dbe47_row0_col0\" class=\"data row0 col0\" >1.0</td>\n",
       "      <td id=\"T_dbe47_row0_col1\" class=\"data row0 col1\" >0.9873</td>\n",
       "      <td id=\"T_dbe47_row0_col2\" class=\"data row0 col2\" >0.8068</td>\n",
       "      <td id=\"T_dbe47_row0_col3\" class=\"data row0 col3\" >0.9267</td>\n",
       "      <td id=\"T_dbe47_row0_col4\" class=\"data row0 col4\" >0.9013</td>\n",
       "      <td id=\"T_dbe47_row0_col5\" class=\"data row0 col5\" >0.9048</td>\n",
       "      <td id=\"T_dbe47_row0_col6\" class=\"data row0 col6\" >0.8974</td>\n",
       "      <td id=\"T_dbe47_row0_col7\" class=\"data row0 col7\" >-0.5358</td>\n",
       "      <td id=\"T_dbe47_row0_col8\" class=\"data row0 col8\" >0.2246</td>\n",
       "    </tr>\n",
       "    <tr>\n",
       "      <th id=\"T_dbe47_level0_row1\" class=\"row_heading level0 row1\" >C</th>\n",
       "      <td id=\"T_dbe47_row1_col0\" class=\"data row1 col0\" >0.9873</td>\n",
       "      <td id=\"T_dbe47_row1_col1\" class=\"data row1 col1\" >1.0</td>\n",
       "      <td id=\"T_dbe47_row1_col2\" class=\"data row1 col2\" >0.8125</td>\n",
       "      <td id=\"T_dbe47_row1_col3\" class=\"data row1 col3\" >0.9268</td>\n",
       "      <td id=\"T_dbe47_row1_col4\" class=\"data row1 col4\" >0.8968</td>\n",
       "      <td id=\"T_dbe47_row1_col5\" class=\"data row1 col5\" >0.9021</td>\n",
       "      <td id=\"T_dbe47_row1_col6\" class=\"data row1 col6\" >0.9045</td>\n",
       "      <td id=\"T_dbe47_row1_col7\" class=\"data row1 col7\" >-0.5498</td>\n",
       "      <td id=\"T_dbe47_row1_col8\" class=\"data row1 col8\" >0.2275</td>\n",
       "    </tr>\n",
       "    <tr>\n",
       "      <th id=\"T_dbe47_level0_row2\" class=\"row_heading level0 row2\" >D</th>\n",
       "      <td id=\"T_dbe47_row2_col0\" class=\"data row2 col0\" >0.8068</td>\n",
       "      <td id=\"T_dbe47_row2_col1\" class=\"data row2 col1\" >0.8125</td>\n",
       "      <td id=\"T_dbe47_row2_col2\" class=\"data row2 col2\" >1.0</td>\n",
       "      <td id=\"T_dbe47_row2_col3\" class=\"data row2 col3\" >0.802</td>\n",
       "      <td id=\"T_dbe47_row2_col4\" class=\"data row2 col4\" >0.7608</td>\n",
       "      <td id=\"T_dbe47_row2_col5\" class=\"data row2 col5\" >0.7828</td>\n",
       "      <td id=\"T_dbe47_row2_col6\" class=\"data row2 col6\" >0.7967</td>\n",
       "      <td id=\"T_dbe47_row2_col7\" class=\"data row2 col7\" >-0.5006</td>\n",
       "      <td id=\"T_dbe47_row2_col8\" class=\"data row2 col8\" >0.2037</td>\n",
       "    </tr>\n",
       "    <tr>\n",
       "      <th id=\"T_dbe47_level0_row3\" class=\"row_heading level0 row3\" >E</th>\n",
       "      <td id=\"T_dbe47_row3_col0\" class=\"data row3 col0\" >0.9267</td>\n",
       "      <td id=\"T_dbe47_row3_col1\" class=\"data row3 col1\" >0.9268</td>\n",
       "      <td id=\"T_dbe47_row3_col2\" class=\"data row3 col2\" >0.802</td>\n",
       "      <td id=\"T_dbe47_row3_col3\" class=\"data row3 col3\" >1.0</td>\n",
       "      <td id=\"T_dbe47_row3_col4\" class=\"data row3 col4\" >0.9709</td>\n",
       "      <td id=\"T_dbe47_row3_col5\" class=\"data row3 col5\" >0.9659</td>\n",
       "      <td id=\"T_dbe47_row3_col6\" class=\"data row3 col6\" >0.9559</td>\n",
       "      <td id=\"T_dbe47_row3_col7\" class=\"data row3 col7\" >-0.5446</td>\n",
       "      <td id=\"T_dbe47_row3_col8\" class=\"data row3 col8\" >0.2473</td>\n",
       "    </tr>\n",
       "    <tr>\n",
       "      <th id=\"T_dbe47_level0_row4\" class=\"row_heading level0 row4\" >F</th>\n",
       "      <td id=\"T_dbe47_row4_col0\" class=\"data row4 col0\" >0.9013</td>\n",
       "      <td id=\"T_dbe47_row4_col1\" class=\"data row4 col1\" >0.8968</td>\n",
       "      <td id=\"T_dbe47_row4_col2\" class=\"data row4 col2\" >0.7608</td>\n",
       "      <td id=\"T_dbe47_row4_col3\" class=\"data row4 col3\" >0.9709</td>\n",
       "      <td id=\"T_dbe47_row4_col4\" class=\"data row4 col4\" >1.0</td>\n",
       "      <td id=\"T_dbe47_row4_col5\" class=\"data row4 col5\" >0.933</td>\n",
       "      <td id=\"T_dbe47_row4_col6\" class=\"data row4 col6\" >0.8845</td>\n",
       "      <td id=\"T_dbe47_row4_col7\" class=\"data row4 col7\" >-0.5113</td>\n",
       "      <td id=\"T_dbe47_row4_col8\" class=\"data row4 col8\" >0.2493</td>\n",
       "    </tr>\n",
       "    <tr>\n",
       "      <th id=\"T_dbe47_level0_row5\" class=\"row_heading level0 row5\" >G</th>\n",
       "      <td id=\"T_dbe47_row5_col0\" class=\"data row5 col0\" >0.9048</td>\n",
       "      <td id=\"T_dbe47_row5_col1\" class=\"data row5 col1\" >0.9021</td>\n",
       "      <td id=\"T_dbe47_row5_col2\" class=\"data row5 col2\" >0.7828</td>\n",
       "      <td id=\"T_dbe47_row5_col3\" class=\"data row5 col3\" >0.9659</td>\n",
       "      <td id=\"T_dbe47_row5_col4\" class=\"data row5 col4\" >0.933</td>\n",
       "      <td id=\"T_dbe47_row5_col5\" class=\"data row5 col5\" >1.0</td>\n",
       "      <td id=\"T_dbe47_row5_col6\" class=\"data row5 col6\" >0.9061</td>\n",
       "      <td id=\"T_dbe47_row5_col7\" class=\"data row5 col7\" >-0.545</td>\n",
       "      <td id=\"T_dbe47_row5_col8\" class=\"data row5 col8\" >0.2363</td>\n",
       "    </tr>\n",
       "    <tr>\n",
       "      <th id=\"T_dbe47_level0_row6\" class=\"row_heading level0 row6\" >H</th>\n",
       "      <td id=\"T_dbe47_row6_col0\" class=\"data row6 col0\" >0.8974</td>\n",
       "      <td id=\"T_dbe47_row6_col1\" class=\"data row6 col1\" >0.9045</td>\n",
       "      <td id=\"T_dbe47_row6_col2\" class=\"data row6 col2\" >0.7967</td>\n",
       "      <td id=\"T_dbe47_row6_col3\" class=\"data row6 col3\" >0.9559</td>\n",
       "      <td id=\"T_dbe47_row6_col4\" class=\"data row6 col4\" >0.8845</td>\n",
       "      <td id=\"T_dbe47_row6_col5\" class=\"data row6 col5\" >0.9061</td>\n",
       "      <td id=\"T_dbe47_row6_col6\" class=\"data row6 col6\" >1.0</td>\n",
       "      <td id=\"T_dbe47_row6_col7\" class=\"data row6 col7\" >-0.5338</td>\n",
       "      <td id=\"T_dbe47_row6_col8\" class=\"data row6 col8\" >0.2291</td>\n",
       "    </tr>\n",
       "    <tr>\n",
       "      <th id=\"T_dbe47_level0_row7\" class=\"row_heading level0 row7\" >A_I</th>\n",
       "      <td id=\"T_dbe47_row7_col0\" class=\"data row7 col0\" >-0.5358</td>\n",
       "      <td id=\"T_dbe47_row7_col1\" class=\"data row7 col1\" >-0.5498</td>\n",
       "      <td id=\"T_dbe47_row7_col2\" class=\"data row7 col2\" >-0.5006</td>\n",
       "      <td id=\"T_dbe47_row7_col3\" class=\"data row7 col3\" >-0.5446</td>\n",
       "      <td id=\"T_dbe47_row7_col4\" class=\"data row7 col4\" >-0.5113</td>\n",
       "      <td id=\"T_dbe47_row7_col5\" class=\"data row7 col5\" >-0.545</td>\n",
       "      <td id=\"T_dbe47_row7_col6\" class=\"data row7 col6\" >-0.5338</td>\n",
       "      <td id=\"T_dbe47_row7_col7\" class=\"data row7 col7\" >1.0</td>\n",
       "      <td id=\"T_dbe47_row7_col8\" class=\"data row7 col8\" >-0.5183</td>\n",
       "    </tr>\n",
       "    <tr>\n",
       "      <th id=\"T_dbe47_level0_row8\" class=\"row_heading level0 row8\" >A_M</th>\n",
       "      <td id=\"T_dbe47_row8_col0\" class=\"data row8 col0\" >0.2246</td>\n",
       "      <td id=\"T_dbe47_row8_col1\" class=\"data row8 col1\" >0.2275</td>\n",
       "      <td id=\"T_dbe47_row8_col2\" class=\"data row8 col2\" >0.2037</td>\n",
       "      <td id=\"T_dbe47_row8_col3\" class=\"data row8 col3\" >0.2473</td>\n",
       "      <td id=\"T_dbe47_row8_col4\" class=\"data row8 col4\" >0.2493</td>\n",
       "      <td id=\"T_dbe47_row8_col5\" class=\"data row8 col5\" >0.2363</td>\n",
       "      <td id=\"T_dbe47_row8_col6\" class=\"data row8 col6\" >0.2291</td>\n",
       "      <td id=\"T_dbe47_row8_col7\" class=\"data row8 col7\" >-0.5183</td>\n",
       "      <td id=\"T_dbe47_row8_col8\" class=\"data row8 col8\" >1.0</td>\n",
       "    </tr>\n",
       "  </tbody>\n",
       "</table>\n"
      ],
      "text/plain": [
       "<pandas.io.formats.style.Styler at 0x24fb8c8f8e0>"
      ]
     },
     "execution_count": 7,
     "metadata": {},
     "output_type": "execute_result"
    }
   ],
   "source": [
    "final_features.corr().style.format(\"{:.4}\").background_gradient(cmap=plt.get_cmap('coolwarm'), axis=1)"
   ]
  },
  {
   "cell_type": "code",
   "execution_count": 8,
   "id": "881041b3",
   "metadata": {},
   "outputs": [],
   "source": [
    "# now we will train the model without dropping E"
   ]
  },
  {
   "cell_type": "code",
   "execution_count": 9,
   "id": "03ac5dc7",
   "metadata": {},
   "outputs": [
    {
     "data": {
      "text/plain": [
       "(3132, 9)"
      ]
     },
     "execution_count": 9,
     "metadata": {},
     "output_type": "execute_result"
    }
   ],
   "source": [
    "final_features.shape"
   ]
  },
  {
   "cell_type": "code",
   "execution_count": 10,
   "id": "abbe3419",
   "metadata": {},
   "outputs": [
    {
     "data": {
      "text/html": [
       "<div>\n",
       "<style scoped>\n",
       "    .dataframe tbody tr th:only-of-type {\n",
       "        vertical-align: middle;\n",
       "    }\n",
       "\n",
       "    .dataframe tbody tr th {\n",
       "        vertical-align: top;\n",
       "    }\n",
       "\n",
       "    .dataframe thead th {\n",
       "        text-align: right;\n",
       "    }\n",
       "</style>\n",
       "<table border=\"1\" class=\"dataframe\">\n",
       "  <thead>\n",
       "    <tr style=\"text-align: right;\">\n",
       "      <th></th>\n",
       "      <th>B</th>\n",
       "      <th>C</th>\n",
       "      <th>D</th>\n",
       "      <th>E</th>\n",
       "      <th>F</th>\n",
       "      <th>G</th>\n",
       "      <th>H</th>\n",
       "      <th>A_I</th>\n",
       "      <th>A_M</th>\n",
       "    </tr>\n",
       "  </thead>\n",
       "  <tbody>\n",
       "    <tr>\n",
       "      <th>count</th>\n",
       "      <td>3132.000000</td>\n",
       "      <td>3132.000000</td>\n",
       "      <td>3132.000000</td>\n",
       "      <td>3132.000000</td>\n",
       "      <td>3132.000000</td>\n",
       "      <td>3132.000000</td>\n",
       "      <td>3132.000000</td>\n",
       "      <td>3132.000000</td>\n",
       "      <td>3132.000000</td>\n",
       "    </tr>\n",
       "    <tr>\n",
       "      <th>mean</th>\n",
       "      <td>0.525750</td>\n",
       "      <td>0.409254</td>\n",
       "      <td>0.140070</td>\n",
       "      <td>0.834224</td>\n",
       "      <td>0.362219</td>\n",
       "      <td>0.181684</td>\n",
       "      <td>0.240351</td>\n",
       "      <td>0.316731</td>\n",
       "      <td>0.366858</td>\n",
       "    </tr>\n",
       "    <tr>\n",
       "      <th>std</th>\n",
       "      <td>0.119131</td>\n",
       "      <td>0.098557</td>\n",
       "      <td>0.042661</td>\n",
       "      <td>0.491449</td>\n",
       "      <td>0.223000</td>\n",
       "      <td>0.109317</td>\n",
       "      <td>0.139567</td>\n",
       "      <td>0.465276</td>\n",
       "      <td>0.482024</td>\n",
       "    </tr>\n",
       "    <tr>\n",
       "      <th>min</th>\n",
       "      <td>0.075000</td>\n",
       "      <td>0.055000</td>\n",
       "      <td>0.000000</td>\n",
       "      <td>0.002000</td>\n",
       "      <td>0.001000</td>\n",
       "      <td>0.000500</td>\n",
       "      <td>0.001500</td>\n",
       "      <td>0.000000</td>\n",
       "      <td>0.000000</td>\n",
       "    </tr>\n",
       "    <tr>\n",
       "      <th>25%</th>\n",
       "      <td>0.450000</td>\n",
       "      <td>0.350000</td>\n",
       "      <td>0.115000</td>\n",
       "      <td>0.444000</td>\n",
       "      <td>0.187000</td>\n",
       "      <td>0.093500</td>\n",
       "      <td>0.130000</td>\n",
       "      <td>0.000000</td>\n",
       "      <td>0.000000</td>\n",
       "    </tr>\n",
       "    <tr>\n",
       "      <th>50%</th>\n",
       "      <td>0.545000</td>\n",
       "      <td>0.425000</td>\n",
       "      <td>0.145000</td>\n",
       "      <td>0.804500</td>\n",
       "      <td>0.339500</td>\n",
       "      <td>0.171750</td>\n",
       "      <td>0.235000</td>\n",
       "      <td>0.000000</td>\n",
       "      <td>0.000000</td>\n",
       "    </tr>\n",
       "    <tr>\n",
       "      <th>75%</th>\n",
       "      <td>0.615000</td>\n",
       "      <td>0.480000</td>\n",
       "      <td>0.165000</td>\n",
       "      <td>1.156750</td>\n",
       "      <td>0.506500</td>\n",
       "      <td>0.255000</td>\n",
       "      <td>0.330000</td>\n",
       "      <td>1.000000</td>\n",
       "      <td>1.000000</td>\n",
       "    </tr>\n",
       "    <tr>\n",
       "      <th>max</th>\n",
       "      <td>0.815000</td>\n",
       "      <td>0.650000</td>\n",
       "      <td>1.130000</td>\n",
       "      <td>2.825500</td>\n",
       "      <td>1.488000</td>\n",
       "      <td>0.760000</td>\n",
       "      <td>1.005000</td>\n",
       "      <td>1.000000</td>\n",
       "      <td>1.000000</td>\n",
       "    </tr>\n",
       "  </tbody>\n",
       "</table>\n",
       "</div>"
      ],
      "text/plain": [
       "                 B            C            D            E            F  \\\n",
       "count  3132.000000  3132.000000  3132.000000  3132.000000  3132.000000   \n",
       "mean      0.525750     0.409254     0.140070     0.834224     0.362219   \n",
       "std       0.119131     0.098557     0.042661     0.491449     0.223000   \n",
       "min       0.075000     0.055000     0.000000     0.002000     0.001000   \n",
       "25%       0.450000     0.350000     0.115000     0.444000     0.187000   \n",
       "50%       0.545000     0.425000     0.145000     0.804500     0.339500   \n",
       "75%       0.615000     0.480000     0.165000     1.156750     0.506500   \n",
       "max       0.815000     0.650000     1.130000     2.825500     1.488000   \n",
       "\n",
       "                 G            H          A_I          A_M  \n",
       "count  3132.000000  3132.000000  3132.000000  3132.000000  \n",
       "mean      0.181684     0.240351     0.316731     0.366858  \n",
       "std       0.109317     0.139567     0.465276     0.482024  \n",
       "min       0.000500     0.001500     0.000000     0.000000  \n",
       "25%       0.093500     0.130000     0.000000     0.000000  \n",
       "50%       0.171750     0.235000     0.000000     0.000000  \n",
       "75%       0.255000     0.330000     1.000000     1.000000  \n",
       "max       0.760000     1.005000     1.000000     1.000000  "
      ]
     },
     "execution_count": 10,
     "metadata": {},
     "output_type": "execute_result"
    }
   ],
   "source": [
    "final_features.describe()"
   ]
  },
  {
   "cell_type": "code",
   "execution_count": 11,
   "id": "7e518275",
   "metadata": {},
   "outputs": [
    {
     "data": {
      "text/plain": [
       "(3132, 9)"
      ]
     },
     "execution_count": 11,
     "metadata": {},
     "output_type": "execute_result"
    }
   ],
   "source": [
    "final_features.shape"
   ]
  },
  {
   "cell_type": "markdown",
   "id": "2b578f54",
   "metadata": {},
   "source": [
    "scaling values using standardization"
   ]
  },
  {
   "cell_type": "code",
   "execution_count": 12,
   "id": "9357c277",
   "metadata": {},
   "outputs": [],
   "source": [
    "from sklearn.preprocessing import StandardScaler\n",
    "SC = StandardScaler()\n",
    "\n",
    "# here min max scalar can also be used, but after using it, standard scalar seems better for this data."
   ]
  },
  {
   "cell_type": "code",
   "execution_count": 13,
   "id": "09816ac4",
   "metadata": {},
   "outputs": [],
   "source": [
    "x_train = SC.fit_transform(final_features.iloc[:,:-2])"
   ]
  },
  {
   "cell_type": "code",
   "execution_count": 14,
   "id": "9b8deef0",
   "metadata": {},
   "outputs": [
    {
     "data": {
      "text/plain": [
       "(3132, 7)"
      ]
     },
     "execution_count": 14,
     "metadata": {},
     "output_type": "execute_result"
    }
   ],
   "source": [
    "x_train.shape"
   ]
  },
  {
   "cell_type": "code",
   "execution_count": 15,
   "id": "339d13c9",
   "metadata": {},
   "outputs": [],
   "source": [
    "x_train = pd.DataFrame(x_train, columns = final_features.columns[:-2])"
   ]
  },
  {
   "cell_type": "code",
   "execution_count": 16,
   "id": "a7c6d1b8",
   "metadata": {},
   "outputs": [],
   "source": [
    "dff = final_features.iloc[:,7:9]\n"
   ]
  },
  {
   "cell_type": "code",
   "execution_count": 17,
   "id": "a6693f0e",
   "metadata": {},
   "outputs": [],
   "source": [
    "horizontal_concat1 = pd.concat([x_train, dff], axis=1)"
   ]
  },
  {
   "cell_type": "code",
   "execution_count": 18,
   "id": "995ac494",
   "metadata": {},
   "outputs": [],
   "source": [
    "x_train = horizontal_concat1"
   ]
  },
  {
   "cell_type": "code",
   "execution_count": 19,
   "id": "9e2ab394",
   "metadata": {},
   "outputs": [
    {
     "data": {
      "text/plain": [
       "(3132, 9)"
      ]
     },
     "execution_count": 19,
     "metadata": {},
     "output_type": "execute_result"
    }
   ],
   "source": [
    "x_train.shape"
   ]
  },
  {
   "cell_type": "markdown",
   "id": "1619f74a",
   "metadata": {},
   "source": [
    "Converting categorical to numerical in testing data"
   ]
  },
  {
   "cell_type": "code",
   "execution_count": 20,
   "id": "4bd54ca9",
   "metadata": {},
   "outputs": [
    {
     "data": {
      "text/plain": [
       "(1045, 9)"
      ]
     },
     "execution_count": 20,
     "metadata": {},
     "output_type": "execute_result"
    }
   ],
   "source": [
    "final_features1 = pd.get_dummies(x_test,drop_first=True)\n",
    "n = final_features1['Index']\n",
    "final_features1.drop(['Index'], axis=1, inplace = True)\n",
    "\n",
    "final_features1.shape"
   ]
  },
  {
   "cell_type": "code",
   "execution_count": 21,
   "id": "90a85f33",
   "metadata": {},
   "outputs": [],
   "source": [
    "dff1 = final_features1.iloc[:,7:9]"
   ]
  },
  {
   "cell_type": "code",
   "execution_count": 22,
   "id": "79f26537",
   "metadata": {},
   "outputs": [],
   "source": [
    "x_test = SC.transform(final_features1.iloc[:,:-2])\n",
    "x_test = pd.DataFrame(x_test, columns = final_features1.columns[:-2])\n",
    "x_test.shape\n",
    "x_test = pd.concat([x_test, dff1] ,axis=1)"
   ]
  },
  {
   "cell_type": "code",
   "execution_count": 23,
   "id": "30141be7",
   "metadata": {},
   "outputs": [],
   "source": [
    "from sklearn.decomposition import PCA\n",
    "pca = PCA(n_components = 9)\n",
    "x_train = pca.fit_transform(x_train)\n",
    "x_test = pca.transform(x_test)"
   ]
  },
  {
   "cell_type": "code",
   "execution_count": 24,
   "id": "ce9db4d3",
   "metadata": {},
   "outputs": [],
   "source": [
    "from sklearn.ensemble import RandomForestRegressor\n",
    "regressor = RandomForestRegressor(n_estimators = 275, random_state = 0)\n",
    "regressor.fit(x_train, y)\n",
    "Y_pred = regressor.predict(x_test)"
   ]
  },
  {
   "cell_type": "code",
   "execution_count": 25,
   "id": "eaae4e0c",
   "metadata": {},
   "outputs": [
    {
     "data": {
      "text/plain": [
       "94.03"
      ]
     },
     "execution_count": 25,
     "metadata": {},
     "output_type": "execute_result"
    }
   ],
   "source": [
    "from sklearn.metrics import accuracy_score\n",
    "regressor.score(x_train, y)\n",
    "regressor = round(regressor.score(x_train,y) * 100, 2)\n",
    "regressor"
   ]
  },
  {
   "cell_type": "markdown",
   "id": "dbbc54ea",
   "metadata": {},
   "source": [
    "Converting to csv"
   ]
  },
  {
   "cell_type": "code",
   "execution_count": 26,
   "id": "d2141f5b",
   "metadata": {},
   "outputs": [],
   "source": [
    "ans_p = pd.DataFrame({\n",
    "    \"Index\":n,\"Target\":Y_pred\n",
    "})"
   ]
  },
  {
   "cell_type": "code",
   "execution_count": 27,
   "id": "a2627cd7",
   "metadata": {},
   "outputs": [],
   "source": [
    "df_final4 = pd.DataFrame(ans_p,index=None)"
   ]
  },
  {
   "cell_type": "code",
   "execution_count": 202,
   "id": "aec93753",
   "metadata": {},
   "outputs": [],
   "source": [
    "df_final4.to_csv(\"ans19.csv\")"
   ]
  },
  {
   "cell_type": "code",
   "execution_count": null,
   "id": "cecdb0e9",
   "metadata": {},
   "outputs": [],
   "source": []
  },
  {
   "cell_type": "code",
   "execution_count": null,
   "id": "815eeb95",
   "metadata": {},
   "outputs": [],
   "source": []
  },
  {
   "cell_type": "code",
   "execution_count": null,
   "id": "9517d494",
   "metadata": {},
   "outputs": [],
   "source": []
  },
  {
   "cell_type": "code",
   "execution_count": null,
   "id": "0cb045e6",
   "metadata": {},
   "outputs": [],
   "source": []
  },
  {
   "cell_type": "code",
   "execution_count": null,
   "id": "d2e7a6b8",
   "metadata": {},
   "outputs": [],
   "source": []
  },
  {
   "cell_type": "code",
   "execution_count": null,
   "id": "740b36ca",
   "metadata": {},
   "outputs": [],
   "source": []
  },
  {
   "cell_type": "code",
   "execution_count": null,
   "id": "5211ba57",
   "metadata": {},
   "outputs": [],
   "source": []
  },
  {
   "cell_type": "code",
   "execution_count": null,
   "id": "c8cd56f0",
   "metadata": {},
   "outputs": [],
   "source": []
  },
  {
   "cell_type": "code",
   "execution_count": null,
   "id": "db0f0a11",
   "metadata": {},
   "outputs": [],
   "source": []
  },
  {
   "cell_type": "code",
   "execution_count": null,
   "id": "d332a2c2",
   "metadata": {},
   "outputs": [],
   "source": []
  },
  {
   "cell_type": "code",
   "execution_count": null,
   "id": "8fec4026",
   "metadata": {},
   "outputs": [],
   "source": []
  }
 ],
 "metadata": {
  "kernelspec": {
   "display_name": "Python 3 (ipykernel)",
   "language": "python",
   "name": "python3"
  },
  "language_info": {
   "codemirror_mode": {
    "name": "ipython",
    "version": 3
   },
   "file_extension": ".py",
   "mimetype": "text/x-python",
   "name": "python",
   "nbconvert_exporter": "python",
   "pygments_lexer": "ipython3",
   "version": "3.9.12"
  }
 },
 "nbformat": 4,
 "nbformat_minor": 5
}
