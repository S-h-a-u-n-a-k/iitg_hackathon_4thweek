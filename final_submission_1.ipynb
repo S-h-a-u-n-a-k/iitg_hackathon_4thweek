{
 "cells": [
  {
   "cell_type": "code",
   "execution_count": 25,
   "id": "18080aa3",
   "metadata": {},
   "outputs": [],
   "source": [
    "import numpy as np\n",
    "import pandas as pd \n",
    "from sklearn.linear_model import LinearRegression\n",
    "from sklearn.model_selection import train_test_split\n",
    "from sklearn.linear_model import LogisticRegression\n",
    "from sklearn.impute import SimpleImputer\n",
    "import matplotlib.pyplot as plt\n",
    "import seaborn as sns"
   ]
  },
  {
   "cell_type": "code",
   "execution_count": 26,
   "id": "df6fb604",
   "metadata": {},
   "outputs": [
    {
     "data": {
      "text/plain": [
       "(3132, 9)"
      ]
     },
     "execution_count": 26,
     "metadata": {},
     "output_type": "execute_result"
    }
   ],
   "source": [
    "df = pd.read_csv(\"Train.csv\")\n",
    "df.shape"
   ]
  },
  {
   "cell_type": "code",
   "execution_count": 27,
   "id": "27705b95",
   "metadata": {},
   "outputs": [],
   "source": [
    "y = df['Target']\n",
    "df.drop(['Target'],axis=1,inplace=True)"
   ]
  },
  {
   "cell_type": "code",
   "execution_count": 28,
   "id": "b235e101",
   "metadata": {},
   "outputs": [
    {
     "data": {
      "text/plain": [
       "(1045, 9)"
      ]
     },
     "execution_count": 28,
     "metadata": {},
     "output_type": "execute_result"
    }
   ],
   "source": [
    "x_test = pd.read_csv(\"Test.csv\")\n",
    "x_test.shape"
   ]
  },
  {
   "cell_type": "markdown",
   "id": "3dac9e8f",
   "metadata": {},
   "source": [
    "Converting categorical to numerical in training data"
   ]
  },
  {
   "cell_type": "code",
   "execution_count": 29,
   "id": "15e95542",
   "metadata": {},
   "outputs": [],
   "source": [
    "final_features = pd.get_dummies(df,drop_first=True)"
   ]
  },
  {
   "cell_type": "markdown",
   "id": "7c8a96b7",
   "metadata": {},
   "source": [
    "Correlation Matrix"
   ]
  },
  {
   "cell_type": "code",
   "execution_count": 30,
   "id": "c18058a8",
   "metadata": {},
   "outputs": [
    {
     "data": {
      "text/html": [
       "<style type=\"text/css\">\n",
       "#T_ef3fa_row0_col0, #T_ef3fa_row1_col1, #T_ef3fa_row2_col2, #T_ef3fa_row3_col3, #T_ef3fa_row4_col4, #T_ef3fa_row5_col5, #T_ef3fa_row6_col6, #T_ef3fa_row7_col7, #T_ef3fa_row8_col8 {\n",
       "  background-color: #b40426;\n",
       "  color: #f1f1f1;\n",
       "}\n",
       "#T_ef3fa_row0_col1, #T_ef3fa_row1_col0 {\n",
       "  background-color: #b70d28;\n",
       "  color: #f1f1f1;\n",
       "}\n",
       "#T_ef3fa_row0_col2, #T_ef3fa_row2_col0, #T_ef3fa_row3_col2 {\n",
       "  background-color: #de614d;\n",
       "  color: #f1f1f1;\n",
       "}\n",
       "#T_ef3fa_row0_col3, #T_ef3fa_row1_col3, #T_ef3fa_row3_col0, #T_ef3fa_row3_col1 {\n",
       "  background-color: #c53334;\n",
       "  color: #f1f1f1;\n",
       "}\n",
       "#T_ef3fa_row0_col4, #T_ef3fa_row1_col5, #T_ef3fa_row4_col0, #T_ef3fa_row5_col1 {\n",
       "  background-color: #cb3e38;\n",
       "  color: #f1f1f1;\n",
       "}\n",
       "#T_ef3fa_row0_col5, #T_ef3fa_row1_col6, #T_ef3fa_row5_col0, #T_ef3fa_row5_col6, #T_ef3fa_row6_col1, #T_ef3fa_row6_col5 {\n",
       "  background-color: #ca3b37;\n",
       "  color: #f1f1f1;\n",
       "}\n",
       "#T_ef3fa_row0_col6, #T_ef3fa_row1_col4, #T_ef3fa_row4_col1, #T_ef3fa_row6_col0 {\n",
       "  background-color: #cc403a;\n",
       "  color: #f1f1f1;\n",
       "}\n",
       "#T_ef3fa_row0_col7, #T_ef3fa_row1_col7, #T_ef3fa_row2_col7, #T_ef3fa_row3_col7, #T_ef3fa_row4_col7, #T_ef3fa_row5_col7, #T_ef3fa_row6_col7, #T_ef3fa_row7_col1, #T_ef3fa_row7_col3, #T_ef3fa_row7_col5, #T_ef3fa_row8_col7 {\n",
       "  background-color: #3b4cc0;\n",
       "  color: #f1f1f1;\n",
       "}\n",
       "#T_ef3fa_row0_col8, #T_ef3fa_row8_col6 {\n",
       "  background-color: #dbdcde;\n",
       "  color: #000000;\n",
       "}\n",
       "#T_ef3fa_row1_col2 {\n",
       "  background-color: #dc5d4a;\n",
       "  color: #f1f1f1;\n",
       "}\n",
       "#T_ef3fa_row1_col8, #T_ef3fa_row4_col8 {\n",
       "  background-color: #dddcdc;\n",
       "  color: #000000;\n",
       "}\n",
       "#T_ef3fa_row2_col1 {\n",
       "  background-color: #dd5f4b;\n",
       "  color: #f1f1f1;\n",
       "}\n",
       "#T_ef3fa_row2_col3, #T_ef3fa_row6_col2 {\n",
       "  background-color: #df634e;\n",
       "  color: #f1f1f1;\n",
       "}\n",
       "#T_ef3fa_row2_col4, #T_ef3fa_row4_col2 {\n",
       "  background-color: #e57058;\n",
       "  color: #f1f1f1;\n",
       "}\n",
       "#T_ef3fa_row2_col5 {\n",
       "  background-color: #e36b54;\n",
       "  color: #f1f1f1;\n",
       "}\n",
       "#T_ef3fa_row2_col6 {\n",
       "  background-color: #e0654f;\n",
       "  color: #f1f1f1;\n",
       "}\n",
       "#T_ef3fa_row2_col8 {\n",
       "  background-color: #d5dbe5;\n",
       "  color: #000000;\n",
       "}\n",
       "#T_ef3fa_row3_col4, #T_ef3fa_row4_col3 {\n",
       "  background-color: #ba162b;\n",
       "  color: #f1f1f1;\n",
       "}\n",
       "#T_ef3fa_row3_col5, #T_ef3fa_row5_col3 {\n",
       "  background-color: #bb1b2c;\n",
       "  color: #f1f1f1;\n",
       "}\n",
       "#T_ef3fa_row3_col6, #T_ef3fa_row6_col3 {\n",
       "  background-color: #be242e;\n",
       "  color: #f1f1f1;\n",
       "}\n",
       "#T_ef3fa_row3_col8 {\n",
       "  background-color: #e0dbd8;\n",
       "  color: #000000;\n",
       "}\n",
       "#T_ef3fa_row4_col5, #T_ef3fa_row5_col4 {\n",
       "  background-color: #c43032;\n",
       "  color: #f1f1f1;\n",
       "}\n",
       "#T_ef3fa_row4_col6, #T_ef3fa_row6_col4 {\n",
       "  background-color: #cf453c;\n",
       "  color: #f1f1f1;\n",
       "}\n",
       "#T_ef3fa_row5_col2 {\n",
       "  background-color: #e16751;\n",
       "  color: #f1f1f1;\n",
       "}\n",
       "#T_ef3fa_row5_col8, #T_ef3fa_row8_col3, #T_ef3fa_row8_col4 {\n",
       "  background-color: #dedcdb;\n",
       "  color: #000000;\n",
       "}\n",
       "#T_ef3fa_row6_col8, #T_ef3fa_row8_col5 {\n",
       "  background-color: #dcdddd;\n",
       "  color: #000000;\n",
       "}\n",
       "#T_ef3fa_row7_col0, #T_ef3fa_row7_col6 {\n",
       "  background-color: #3d50c3;\n",
       "  color: #f1f1f1;\n",
       "}\n",
       "#T_ef3fa_row7_col2 {\n",
       "  background-color: #445acc;\n",
       "  color: #f1f1f1;\n",
       "}\n",
       "#T_ef3fa_row7_col4 {\n",
       "  background-color: #4257c9;\n",
       "  color: #f1f1f1;\n",
       "}\n",
       "#T_ef3fa_row7_col8 {\n",
       "  background-color: #4055c8;\n",
       "  color: #f1f1f1;\n",
       "}\n",
       "#T_ef3fa_row8_col0, #T_ef3fa_row8_col1 {\n",
       "  background-color: #dadce0;\n",
       "  color: #000000;\n",
       "}\n",
       "#T_ef3fa_row8_col2 {\n",
       "  background-color: #d6dce4;\n",
       "  color: #000000;\n",
       "}\n",
       "</style>\n",
       "<table id=\"T_ef3fa\">\n",
       "  <thead>\n",
       "    <tr>\n",
       "      <th class=\"blank level0\" >&nbsp;</th>\n",
       "      <th id=\"T_ef3fa_level0_col0\" class=\"col_heading level0 col0\" >B</th>\n",
       "      <th id=\"T_ef3fa_level0_col1\" class=\"col_heading level0 col1\" >C</th>\n",
       "      <th id=\"T_ef3fa_level0_col2\" class=\"col_heading level0 col2\" >D</th>\n",
       "      <th id=\"T_ef3fa_level0_col3\" class=\"col_heading level0 col3\" >E</th>\n",
       "      <th id=\"T_ef3fa_level0_col4\" class=\"col_heading level0 col4\" >F</th>\n",
       "      <th id=\"T_ef3fa_level0_col5\" class=\"col_heading level0 col5\" >G</th>\n",
       "      <th id=\"T_ef3fa_level0_col6\" class=\"col_heading level0 col6\" >H</th>\n",
       "      <th id=\"T_ef3fa_level0_col7\" class=\"col_heading level0 col7\" >A_I</th>\n",
       "      <th id=\"T_ef3fa_level0_col8\" class=\"col_heading level0 col8\" >A_M</th>\n",
       "    </tr>\n",
       "  </thead>\n",
       "  <tbody>\n",
       "    <tr>\n",
       "      <th id=\"T_ef3fa_level0_row0\" class=\"row_heading level0 row0\" >B</th>\n",
       "      <td id=\"T_ef3fa_row0_col0\" class=\"data row0 col0\" >1.0</td>\n",
       "      <td id=\"T_ef3fa_row0_col1\" class=\"data row0 col1\" >0.9873</td>\n",
       "      <td id=\"T_ef3fa_row0_col2\" class=\"data row0 col2\" >0.8068</td>\n",
       "      <td id=\"T_ef3fa_row0_col3\" class=\"data row0 col3\" >0.9267</td>\n",
       "      <td id=\"T_ef3fa_row0_col4\" class=\"data row0 col4\" >0.9013</td>\n",
       "      <td id=\"T_ef3fa_row0_col5\" class=\"data row0 col5\" >0.9048</td>\n",
       "      <td id=\"T_ef3fa_row0_col6\" class=\"data row0 col6\" >0.8974</td>\n",
       "      <td id=\"T_ef3fa_row0_col7\" class=\"data row0 col7\" >-0.5358</td>\n",
       "      <td id=\"T_ef3fa_row0_col8\" class=\"data row0 col8\" >0.2246</td>\n",
       "    </tr>\n",
       "    <tr>\n",
       "      <th id=\"T_ef3fa_level0_row1\" class=\"row_heading level0 row1\" >C</th>\n",
       "      <td id=\"T_ef3fa_row1_col0\" class=\"data row1 col0\" >0.9873</td>\n",
       "      <td id=\"T_ef3fa_row1_col1\" class=\"data row1 col1\" >1.0</td>\n",
       "      <td id=\"T_ef3fa_row1_col2\" class=\"data row1 col2\" >0.8125</td>\n",
       "      <td id=\"T_ef3fa_row1_col3\" class=\"data row1 col3\" >0.9268</td>\n",
       "      <td id=\"T_ef3fa_row1_col4\" class=\"data row1 col4\" >0.8968</td>\n",
       "      <td id=\"T_ef3fa_row1_col5\" class=\"data row1 col5\" >0.9021</td>\n",
       "      <td id=\"T_ef3fa_row1_col6\" class=\"data row1 col6\" >0.9045</td>\n",
       "      <td id=\"T_ef3fa_row1_col7\" class=\"data row1 col7\" >-0.5498</td>\n",
       "      <td id=\"T_ef3fa_row1_col8\" class=\"data row1 col8\" >0.2275</td>\n",
       "    </tr>\n",
       "    <tr>\n",
       "      <th id=\"T_ef3fa_level0_row2\" class=\"row_heading level0 row2\" >D</th>\n",
       "      <td id=\"T_ef3fa_row2_col0\" class=\"data row2 col0\" >0.8068</td>\n",
       "      <td id=\"T_ef3fa_row2_col1\" class=\"data row2 col1\" >0.8125</td>\n",
       "      <td id=\"T_ef3fa_row2_col2\" class=\"data row2 col2\" >1.0</td>\n",
       "      <td id=\"T_ef3fa_row2_col3\" class=\"data row2 col3\" >0.802</td>\n",
       "      <td id=\"T_ef3fa_row2_col4\" class=\"data row2 col4\" >0.7608</td>\n",
       "      <td id=\"T_ef3fa_row2_col5\" class=\"data row2 col5\" >0.7828</td>\n",
       "      <td id=\"T_ef3fa_row2_col6\" class=\"data row2 col6\" >0.7967</td>\n",
       "      <td id=\"T_ef3fa_row2_col7\" class=\"data row2 col7\" >-0.5006</td>\n",
       "      <td id=\"T_ef3fa_row2_col8\" class=\"data row2 col8\" >0.2037</td>\n",
       "    </tr>\n",
       "    <tr>\n",
       "      <th id=\"T_ef3fa_level0_row3\" class=\"row_heading level0 row3\" >E</th>\n",
       "      <td id=\"T_ef3fa_row3_col0\" class=\"data row3 col0\" >0.9267</td>\n",
       "      <td id=\"T_ef3fa_row3_col1\" class=\"data row3 col1\" >0.9268</td>\n",
       "      <td id=\"T_ef3fa_row3_col2\" class=\"data row3 col2\" >0.802</td>\n",
       "      <td id=\"T_ef3fa_row3_col3\" class=\"data row3 col3\" >1.0</td>\n",
       "      <td id=\"T_ef3fa_row3_col4\" class=\"data row3 col4\" >0.9709</td>\n",
       "      <td id=\"T_ef3fa_row3_col5\" class=\"data row3 col5\" >0.9659</td>\n",
       "      <td id=\"T_ef3fa_row3_col6\" class=\"data row3 col6\" >0.9559</td>\n",
       "      <td id=\"T_ef3fa_row3_col7\" class=\"data row3 col7\" >-0.5446</td>\n",
       "      <td id=\"T_ef3fa_row3_col8\" class=\"data row3 col8\" >0.2473</td>\n",
       "    </tr>\n",
       "    <tr>\n",
       "      <th id=\"T_ef3fa_level0_row4\" class=\"row_heading level0 row4\" >F</th>\n",
       "      <td id=\"T_ef3fa_row4_col0\" class=\"data row4 col0\" >0.9013</td>\n",
       "      <td id=\"T_ef3fa_row4_col1\" class=\"data row4 col1\" >0.8968</td>\n",
       "      <td id=\"T_ef3fa_row4_col2\" class=\"data row4 col2\" >0.7608</td>\n",
       "      <td id=\"T_ef3fa_row4_col3\" class=\"data row4 col3\" >0.9709</td>\n",
       "      <td id=\"T_ef3fa_row4_col4\" class=\"data row4 col4\" >1.0</td>\n",
       "      <td id=\"T_ef3fa_row4_col5\" class=\"data row4 col5\" >0.933</td>\n",
       "      <td id=\"T_ef3fa_row4_col6\" class=\"data row4 col6\" >0.8845</td>\n",
       "      <td id=\"T_ef3fa_row4_col7\" class=\"data row4 col7\" >-0.5113</td>\n",
       "      <td id=\"T_ef3fa_row4_col8\" class=\"data row4 col8\" >0.2493</td>\n",
       "    </tr>\n",
       "    <tr>\n",
       "      <th id=\"T_ef3fa_level0_row5\" class=\"row_heading level0 row5\" >G</th>\n",
       "      <td id=\"T_ef3fa_row5_col0\" class=\"data row5 col0\" >0.9048</td>\n",
       "      <td id=\"T_ef3fa_row5_col1\" class=\"data row5 col1\" >0.9021</td>\n",
       "      <td id=\"T_ef3fa_row5_col2\" class=\"data row5 col2\" >0.7828</td>\n",
       "      <td id=\"T_ef3fa_row5_col3\" class=\"data row5 col3\" >0.9659</td>\n",
       "      <td id=\"T_ef3fa_row5_col4\" class=\"data row5 col4\" >0.933</td>\n",
       "      <td id=\"T_ef3fa_row5_col5\" class=\"data row5 col5\" >1.0</td>\n",
       "      <td id=\"T_ef3fa_row5_col6\" class=\"data row5 col6\" >0.9061</td>\n",
       "      <td id=\"T_ef3fa_row5_col7\" class=\"data row5 col7\" >-0.545</td>\n",
       "      <td id=\"T_ef3fa_row5_col8\" class=\"data row5 col8\" >0.2363</td>\n",
       "    </tr>\n",
       "    <tr>\n",
       "      <th id=\"T_ef3fa_level0_row6\" class=\"row_heading level0 row6\" >H</th>\n",
       "      <td id=\"T_ef3fa_row6_col0\" class=\"data row6 col0\" >0.8974</td>\n",
       "      <td id=\"T_ef3fa_row6_col1\" class=\"data row6 col1\" >0.9045</td>\n",
       "      <td id=\"T_ef3fa_row6_col2\" class=\"data row6 col2\" >0.7967</td>\n",
       "      <td id=\"T_ef3fa_row6_col3\" class=\"data row6 col3\" >0.9559</td>\n",
       "      <td id=\"T_ef3fa_row6_col4\" class=\"data row6 col4\" >0.8845</td>\n",
       "      <td id=\"T_ef3fa_row6_col5\" class=\"data row6 col5\" >0.9061</td>\n",
       "      <td id=\"T_ef3fa_row6_col6\" class=\"data row6 col6\" >1.0</td>\n",
       "      <td id=\"T_ef3fa_row6_col7\" class=\"data row6 col7\" >-0.5338</td>\n",
       "      <td id=\"T_ef3fa_row6_col8\" class=\"data row6 col8\" >0.2291</td>\n",
       "    </tr>\n",
       "    <tr>\n",
       "      <th id=\"T_ef3fa_level0_row7\" class=\"row_heading level0 row7\" >A_I</th>\n",
       "      <td id=\"T_ef3fa_row7_col0\" class=\"data row7 col0\" >-0.5358</td>\n",
       "      <td id=\"T_ef3fa_row7_col1\" class=\"data row7 col1\" >-0.5498</td>\n",
       "      <td id=\"T_ef3fa_row7_col2\" class=\"data row7 col2\" >-0.5006</td>\n",
       "      <td id=\"T_ef3fa_row7_col3\" class=\"data row7 col3\" >-0.5446</td>\n",
       "      <td id=\"T_ef3fa_row7_col4\" class=\"data row7 col4\" >-0.5113</td>\n",
       "      <td id=\"T_ef3fa_row7_col5\" class=\"data row7 col5\" >-0.545</td>\n",
       "      <td id=\"T_ef3fa_row7_col6\" class=\"data row7 col6\" >-0.5338</td>\n",
       "      <td id=\"T_ef3fa_row7_col7\" class=\"data row7 col7\" >1.0</td>\n",
       "      <td id=\"T_ef3fa_row7_col8\" class=\"data row7 col8\" >-0.5183</td>\n",
       "    </tr>\n",
       "    <tr>\n",
       "      <th id=\"T_ef3fa_level0_row8\" class=\"row_heading level0 row8\" >A_M</th>\n",
       "      <td id=\"T_ef3fa_row8_col0\" class=\"data row8 col0\" >0.2246</td>\n",
       "      <td id=\"T_ef3fa_row8_col1\" class=\"data row8 col1\" >0.2275</td>\n",
       "      <td id=\"T_ef3fa_row8_col2\" class=\"data row8 col2\" >0.2037</td>\n",
       "      <td id=\"T_ef3fa_row8_col3\" class=\"data row8 col3\" >0.2473</td>\n",
       "      <td id=\"T_ef3fa_row8_col4\" class=\"data row8 col4\" >0.2493</td>\n",
       "      <td id=\"T_ef3fa_row8_col5\" class=\"data row8 col5\" >0.2363</td>\n",
       "      <td id=\"T_ef3fa_row8_col6\" class=\"data row8 col6\" >0.2291</td>\n",
       "      <td id=\"T_ef3fa_row8_col7\" class=\"data row8 col7\" >-0.5183</td>\n",
       "      <td id=\"T_ef3fa_row8_col8\" class=\"data row8 col8\" >1.0</td>\n",
       "    </tr>\n",
       "  </tbody>\n",
       "</table>\n"
      ],
      "text/plain": [
       "<pandas.io.formats.style.Styler at 0x172109b3610>"
      ]
     },
     "execution_count": 30,
     "metadata": {},
     "output_type": "execute_result"
    }
   ],
   "source": [
    "final_features.corr().style.format(\"{:.4}\").background_gradient(cmap=plt.get_cmap('coolwarm'), axis=1)"
   ]
  },
  {
   "cell_type": "markdown",
   "id": "d5152b70",
   "metadata": {},
   "source": [
    "dropping highly correlated feature."
   ]
  },
  {
   "cell_type": "code",
   "execution_count": 31,
   "id": "3e3f9919",
   "metadata": {},
   "outputs": [],
   "source": [
    "final_features.drop(['E'], axis = 1, inplace = True)"
   ]
  },
  {
   "cell_type": "code",
   "execution_count": 32,
   "id": "98ed8503",
   "metadata": {},
   "outputs": [],
   "source": [
    "x_test.drop(['E'], axis = 1, inplace = True)"
   ]
  },
  {
   "cell_type": "markdown",
   "id": "49af22d0",
   "metadata": {},
   "source": [
    "scaling values using standardization"
   ]
  },
  {
   "cell_type": "code",
   "execution_count": 33,
   "id": "1d1a3637",
   "metadata": {},
   "outputs": [],
   "source": [
    "from sklearn.preprocessing import StandardScaler\n",
    "SC = StandardScaler()\n",
    "\n",
    "# here min max scalar can also be used, but after using it, standard scalar seems better for this data."
   ]
  },
  {
   "cell_type": "code",
   "execution_count": 34,
   "id": "b2bed992",
   "metadata": {},
   "outputs": [],
   "source": [
    "x_train = SC.fit_transform(final_features.iloc[:,:-2])"
   ]
  },
  {
   "cell_type": "code",
   "execution_count": 35,
   "id": "b6444f66",
   "metadata": {},
   "outputs": [],
   "source": [
    "x_train = pd.DataFrame(x_train, columns = final_features.columns[:-2])"
   ]
  },
  {
   "cell_type": "code",
   "execution_count": 36,
   "id": "abc6822d",
   "metadata": {},
   "outputs": [
    {
     "data": {
      "text/html": [
       "<div>\n",
       "<style scoped>\n",
       "    .dataframe tbody tr th:only-of-type {\n",
       "        vertical-align: middle;\n",
       "    }\n",
       "\n",
       "    .dataframe tbody tr th {\n",
       "        vertical-align: top;\n",
       "    }\n",
       "\n",
       "    .dataframe thead th {\n",
       "        text-align: right;\n",
       "    }\n",
       "</style>\n",
       "<table border=\"1\" class=\"dataframe\">\n",
       "  <thead>\n",
       "    <tr style=\"text-align: right;\">\n",
       "      <th></th>\n",
       "      <th>B</th>\n",
       "      <th>C</th>\n",
       "      <th>D</th>\n",
       "      <th>F</th>\n",
       "      <th>G</th>\n",
       "      <th>H</th>\n",
       "    </tr>\n",
       "  </thead>\n",
       "  <tbody>\n",
       "    <tr>\n",
       "      <th>0</th>\n",
       "      <td>0.749291</td>\n",
       "      <td>0.464226</td>\n",
       "      <td>-0.118869</td>\n",
       "      <td>0.499098</td>\n",
       "      <td>0.743973</td>\n",
       "      <td>0.241135</td>\n",
       "    </tr>\n",
       "    <tr>\n",
       "      <th>1</th>\n",
       "      <td>-0.090254</td>\n",
       "      <td>-0.144654</td>\n",
       "      <td>-0.001647</td>\n",
       "      <td>-0.364269</td>\n",
       "      <td>-0.514040</td>\n",
       "      <td>-0.145838</td>\n",
       "    </tr>\n",
       "    <tr>\n",
       "      <th>2</th>\n",
       "      <td>1.127086</td>\n",
       "      <td>1.225326</td>\n",
       "      <td>0.818910</td>\n",
       "      <td>1.692114</td>\n",
       "      <td>1.544526</td>\n",
       "      <td>1.179902</td>\n",
       "    </tr>\n",
       "    <tr>\n",
       "      <th>3</th>\n",
       "      <td>-0.593980</td>\n",
       "      <td>-0.449095</td>\n",
       "      <td>-1.056649</td>\n",
       "      <td>-0.617673</td>\n",
       "      <td>-0.738195</td>\n",
       "      <td>-0.647469</td>\n",
       "    </tr>\n",
       "    <tr>\n",
       "      <th>4</th>\n",
       "      <td>-0.258163</td>\n",
       "      <td>-0.093914</td>\n",
       "      <td>0.350020</td>\n",
       "      <td>-0.572823</td>\n",
       "      <td>-0.605532</td>\n",
       "      <td>0.785763</td>\n",
       "    </tr>\n",
       "    <tr>\n",
       "      <th>...</th>\n",
       "      <td>...</td>\n",
       "      <td>...</td>\n",
       "      <td>...</td>\n",
       "      <td>...</td>\n",
       "      <td>...</td>\n",
       "      <td>...</td>\n",
       "    </tr>\n",
       "    <tr>\n",
       "      <th>3127</th>\n",
       "      <td>-0.300140</td>\n",
       "      <td>-0.093914</td>\n",
       "      <td>-0.587759</td>\n",
       "      <td>-0.476395</td>\n",
       "      <td>-0.449995</td>\n",
       "      <td>-0.683300</td>\n",
       "    </tr>\n",
       "    <tr>\n",
       "      <th>3128</th>\n",
       "      <td>1.211040</td>\n",
       "      <td>1.428286</td>\n",
       "      <td>1.170577</td>\n",
       "      <td>0.808565</td>\n",
       "      <td>1.114515</td>\n",
       "      <td>1.144071</td>\n",
       "    </tr>\n",
       "    <tr>\n",
       "      <th>3129</th>\n",
       "      <td>-0.132231</td>\n",
       "      <td>-0.144654</td>\n",
       "      <td>-0.353314</td>\n",
       "      <td>-0.530215</td>\n",
       "      <td>-0.440846</td>\n",
       "      <td>-0.375155</td>\n",
       "    </tr>\n",
       "    <tr>\n",
       "      <th>3130</th>\n",
       "      <td>0.413473</td>\n",
       "      <td>0.565706</td>\n",
       "      <td>-0.470537</td>\n",
       "      <td>0.689711</td>\n",
       "      <td>0.336834</td>\n",
       "      <td>-0.038345</td>\n",
       "    </tr>\n",
       "    <tr>\n",
       "      <th>3131</th>\n",
       "      <td>0.581382</td>\n",
       "      <td>0.667186</td>\n",
       "      <td>0.467243</td>\n",
       "      <td>0.828747</td>\n",
       "      <td>0.451199</td>\n",
       "      <td>0.219636</td>\n",
       "    </tr>\n",
       "  </tbody>\n",
       "</table>\n",
       "<p>3132 rows × 6 columns</p>\n",
       "</div>"
      ],
      "text/plain": [
       "             B         C         D         F         G         H\n",
       "0     0.749291  0.464226 -0.118869  0.499098  0.743973  0.241135\n",
       "1    -0.090254 -0.144654 -0.001647 -0.364269 -0.514040 -0.145838\n",
       "2     1.127086  1.225326  0.818910  1.692114  1.544526  1.179902\n",
       "3    -0.593980 -0.449095 -1.056649 -0.617673 -0.738195 -0.647469\n",
       "4    -0.258163 -0.093914  0.350020 -0.572823 -0.605532  0.785763\n",
       "...        ...       ...       ...       ...       ...       ...\n",
       "3127 -0.300140 -0.093914 -0.587759 -0.476395 -0.449995 -0.683300\n",
       "3128  1.211040  1.428286  1.170577  0.808565  1.114515  1.144071\n",
       "3129 -0.132231 -0.144654 -0.353314 -0.530215 -0.440846 -0.375155\n",
       "3130  0.413473  0.565706 -0.470537  0.689711  0.336834 -0.038345\n",
       "3131  0.581382  0.667186  0.467243  0.828747  0.451199  0.219636\n",
       "\n",
       "[3132 rows x 6 columns]"
      ]
     },
     "execution_count": 36,
     "metadata": {},
     "output_type": "execute_result"
    }
   ],
   "source": [
    "x_train"
   ]
  },
  {
   "cell_type": "code",
   "execution_count": 37,
   "id": "e10880fc",
   "metadata": {},
   "outputs": [],
   "source": [
    "dff = final_features.iloc[:,6:8]"
   ]
  },
  {
   "cell_type": "code",
   "execution_count": 38,
   "id": "62adc803",
   "metadata": {},
   "outputs": [],
   "source": [
    "x_train = pd.concat([x_train, dff], axis=1)"
   ]
  },
  {
   "cell_type": "markdown",
   "id": "8808b35a",
   "metadata": {},
   "source": [
    "Converting categorical to numerical in testing data"
   ]
  },
  {
   "cell_type": "code",
   "execution_count": 39,
   "id": "299806a9",
   "metadata": {},
   "outputs": [],
   "source": [
    "final_features1 = pd.get_dummies(x_test,drop_first=True)\n",
    "n = final_features1['Index']\n",
    "final_features1.drop(['Index'], axis=1, inplace = True)"
   ]
  },
  {
   "cell_type": "code",
   "execution_count": 40,
   "id": "5af1d3c7",
   "metadata": {},
   "outputs": [],
   "source": [
    "dff1 = final_features1.iloc[:,6:8]"
   ]
  },
  {
   "cell_type": "code",
   "execution_count": 41,
   "id": "06cfd70d",
   "metadata": {},
   "outputs": [],
   "source": [
    "x_test = SC.transform(final_features1.iloc[:,:-2])\n",
    "x_test = pd.DataFrame(x_test, columns = final_features1.columns[:-2])\n",
    "x_test = pd.concat([x_test, dff1] ,axis=1)"
   ]
  },
  {
   "cell_type": "code",
   "execution_count": 42,
   "id": "99bb6ceb",
   "metadata": {},
   "outputs": [],
   "source": [
    "from sklearn.decomposition import PCA\n",
    "pca = PCA(n_components = 8)\n",
    "x_train = pca.fit_transform(x_train)\n",
    "x_test = pca.transform(x_test)"
   ]
  },
  {
   "cell_type": "code",
   "execution_count": 43,
   "id": "46f367fa",
   "metadata": {},
   "outputs": [],
   "source": [
    "from sklearn.ensemble import RandomForestRegressor\n",
    "regressor = RandomForestRegressor(n_estimators = 200, random_state = 0)    # here higher value of n_estimators is overfitting and lower value is underfitting. \n",
    "regressor.fit(x_train, y)\n",
    "Y_pred = regressor.predict(x_test)"
   ]
  },
  {
   "cell_type": "code",
   "execution_count": 44,
   "id": "4a19a3c2",
   "metadata": {},
   "outputs": [],
   "source": [
    "# did try multilinear regression, but its not accurately to catch the trend of the training data. "
   ]
  },
  {
   "cell_type": "code",
   "execution_count": 45,
   "id": "8a113704",
   "metadata": {},
   "outputs": [
    {
     "data": {
      "text/plain": [
       "93.68"
      ]
     },
     "execution_count": 45,
     "metadata": {},
     "output_type": "execute_result"
    }
   ],
   "source": [
    "from sklearn.metrics import accuracy_score\n",
    "regressor.score(x_train, y)\n",
    "regressor = round(regressor.score(x_train,y) * 100, 2)\n",
    "regressor"
   ]
  },
  {
   "cell_type": "markdown",
   "id": "53a9f312",
   "metadata": {},
   "source": [
    "Converting to csv "
   ]
  },
  {
   "cell_type": "code",
   "execution_count": 46,
   "id": "a7a72bb8",
   "metadata": {},
   "outputs": [],
   "source": [
    "ans_p = pd.DataFrame({\n",
    "    \"Index\":n,\"Target\":Y_pred\n",
    "})"
   ]
  },
  {
   "cell_type": "code",
   "execution_count": 47,
   "id": "e0081558",
   "metadata": {},
   "outputs": [],
   "source": [
    "df_final4 = pd.DataFrame(ans_p,index=None)"
   ]
  },
  {
   "cell_type": "code",
   "execution_count": 23,
   "id": "eb169e58",
   "metadata": {},
   "outputs": [],
   "source": [
    "df_final4.to_csv(\"ans15.csv\")"
   ]
  },
  {
   "cell_type": "code",
   "execution_count": null,
   "id": "c26a0e7c",
   "metadata": {},
   "outputs": [],
   "source": []
  },
  {
   "cell_type": "code",
   "execution_count": null,
   "id": "331fbf1b",
   "metadata": {},
   "outputs": [],
   "source": []
  },
  {
   "cell_type": "code",
   "execution_count": null,
   "id": "7df76be9",
   "metadata": {},
   "outputs": [],
   "source": []
  },
  {
   "cell_type": "code",
   "execution_count": null,
   "id": "36f41b18",
   "metadata": {},
   "outputs": [],
   "source": []
  },
  {
   "cell_type": "code",
   "execution_count": null,
   "id": "4a534248",
   "metadata": {},
   "outputs": [],
   "source": []
  },
  {
   "cell_type": "code",
   "execution_count": null,
   "id": "8dceebcd",
   "metadata": {},
   "outputs": [],
   "source": []
  },
  {
   "cell_type": "code",
   "execution_count": null,
   "id": "66f7f5de",
   "metadata": {},
   "outputs": [],
   "source": []
  },
  {
   "cell_type": "code",
   "execution_count": null,
   "id": "06347dad",
   "metadata": {},
   "outputs": [],
   "source": []
  },
  {
   "cell_type": "code",
   "execution_count": null,
   "id": "7d2e3128",
   "metadata": {},
   "outputs": [],
   "source": []
  },
  {
   "cell_type": "code",
   "execution_count": null,
   "id": "a256d74a",
   "metadata": {},
   "outputs": [],
   "source": []
  },
  {
   "cell_type": "code",
   "execution_count": null,
   "id": "7e5ee2f4",
   "metadata": {},
   "outputs": [],
   "source": []
  },
  {
   "cell_type": "code",
   "execution_count": null,
   "id": "7203208f",
   "metadata": {},
   "outputs": [],
   "source": []
  },
  {
   "cell_type": "code",
   "execution_count": null,
   "id": "7c1a3e6a",
   "metadata": {},
   "outputs": [],
   "source": []
  }
 ],
 "metadata": {
  "kernelspec": {
   "display_name": "Python 3 (ipykernel)",
   "language": "python",
   "name": "python3"
  },
  "language_info": {
   "codemirror_mode": {
    "name": "ipython",
    "version": 3
   },
   "file_extension": ".py",
   "mimetype": "text/x-python",
   "name": "python",
   "nbconvert_exporter": "python",
   "pygments_lexer": "ipython3",
   "version": "3.9.12"
  }
 },
 "nbformat": 4,
 "nbformat_minor": 5
}
